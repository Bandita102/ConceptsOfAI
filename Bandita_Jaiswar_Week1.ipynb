{
  "nbformat": 4,
  "nbformat_minor": 0,
  "metadata": {
    "colab": {
      "provenance": []
    },
    "kernelspec": {
      "name": "python3",
      "display_name": "Python 3"
    },
    "language_info": {
      "name": "python"
    }
  },
  "cells": [
    {
      "cell_type": "markdown",
      "source": [
        "1. Initialize an empty array with size 2X2."
      ],
      "metadata": {
        "id": "sR0Xr6LbdjcX"
      }
    },
    {
      "cell_type": "code",
      "source": [
        "import numpy as np\n",
        "\n",
        "# 1\n",
        "empty_array = np.empty((2,2))\n",
        "print(\"Empty array of dimension 2x2: \\n\",empty_array,\"\\n\")"
      ],
      "metadata": {
        "id": "BICM5gRAeFbv"
      },
      "execution_count": null,
      "outputs": []
    },
    {
      "cell_type": "markdown",
      "source": [
        "2. Initialize an all one array with size 4X2.\n",
        "\n"
      ],
      "metadata": {
        "id": "V15rmLkDeN0_"
      }
    },
    {
      "cell_type": "code",
      "source": [
        "ones_array = np.ones((4,2))\n",
        "print(\"All one array with size 4x2: \\n\",ones_array,\"\\n\")"
      ],
      "metadata": {
        "colab": {
          "base_uri": "https://localhost:8080/"
        },
        "id": "wPANUhjyeQFa",
        "outputId": "f248153a-91c7-499e-ec26-f3324662b5a8"
      },
      "execution_count": 3,
      "outputs": [
        {
          "output_type": "stream",
          "name": "stdout",
          "text": [
            "All one array with size 4x2: \n",
            " [[1. 1.]\n",
            " [1. 1.]\n",
            " [1. 1.]\n",
            " [1. 1.]] \n",
            "\n"
          ]
        }
      ]
    },
    {
      "cell_type": "markdown",
      "source": [
        "3.Return a new array of given shape and type, filled with fill value.{Hint: np.full}"
      ],
      "metadata": {
        "id": "VlUxqLGreWR-"
      }
    },
    {
      "cell_type": "code",
      "source": [
        "full_array = np.full((3,2), 7)\n",
        "print(\"Array filled with given value : \\n\",full_array,\"\\n\")"
      ],
      "metadata": {
        "id": "TQod3r56egR0"
      },
      "execution_count": null,
      "outputs": []
    },
    {
      "cell_type": "markdown",
      "source": [
        "4.Return a new array of zeros with same shape and type as a given array.{Hint: np.zeros like}"
      ],
      "metadata": {
        "id": "BJ-onvBiej3x"
      }
    },
    {
      "cell_type": "code",
      "source": [
        "reference_array = np.array([[1, 2, 3], [4, 5, 6]])\n",
        "zeros_like_array = np.zeros_like(reference_array)\n",
        "print(\"\\nZeros Array with Same Shape as Reference Array: \", zeros_like_array)"
      ],
      "metadata": {
        "colab": {
          "base_uri": "https://localhost:8080/"
        },
        "id": "67Piztg0eqCF",
        "outputId": "2b3beaae-ac2c-41c8-911a-30913ca3cd17"
      },
      "execution_count": 4,
      "outputs": [
        {
          "output_type": "stream",
          "name": "stdout",
          "text": [
            "\n",
            "Zeros Array with Same Shape as Reference Array:  [[0 0 0]\n",
            " [0 0 0]]\n"
          ]
        }
      ]
    },
    {
      "cell_type": "markdown",
      "source": [
        "5.Return a new array of ones with same shape and type as a given array.{Hint: np.ones like}"
      ],
      "metadata": {
        "id": "5S9uL02ue2K5"
      }
    },
    {
      "cell_type": "code",
      "source": [
        "ones_like_array = np.ones_like(reference_array)\n",
        "print(\"\\nOnes Array with Same Shape as Reference Array: \", ones_like_array)"
      ],
      "metadata": {
        "colab": {
          "base_uri": "https://localhost:8080/"
        },
        "id": "fFUFJqDXe-SR",
        "outputId": "b71ad156-96ce-4892-f1ef-603555768180"
      },
      "execution_count": 6,
      "outputs": [
        {
          "output_type": "stream",
          "name": "stdout",
          "text": [
            "\n",
            "Ones Array with Same Shape as Reference Array:  [[1 1 1]\n",
            " [1 1 1]]\n"
          ]
        }
      ]
    },
    {
      "cell_type": "markdown",
      "source": [
        "6.For an existing list new_list = [1,2,3,4] convert to an numpy array.{Hint: np.array()}"
      ],
      "metadata": {
        "id": "s0m_zFY7fDsy"
      }
    },
    {
      "cell_type": "code",
      "source": [
        "new_list=[1,2,3,4]\n",
        "new_array=np.array(new_list)\n",
        "print(\"List: \", new_list);\n",
        "print(\"Numpy Array: \", new_array);"
      ],
      "metadata": {
        "colab": {
          "base_uri": "https://localhost:8080/"
        },
        "id": "YdSwGWRYfU5T",
        "outputId": "a157ef29-3f98-4afb-f571-da26e909474c"
      },
      "execution_count": 7,
      "outputs": [
        {
          "output_type": "stream",
          "name": "stdout",
          "text": [
            "List:  [1, 2, 3, 4]\n",
            "Numpy Array:  [1 2 3 4]\n"
          ]
        }
      ]
    },
    {
      "cell_type": "markdown",
      "source": [
        "Problem 2"
      ],
      "metadata": {
        "id": "IPlfel8zfiFJ"
      }
    },
    {
      "cell_type": "markdown",
      "source": [
        "1. Create an array with values ranging from 10 to 49. {Hint:np.arrange()}.\n",
        "2. Create a 3X3 matrix with values ranging from 0 to 8.\n",
        "{Hint:look for np.reshape()}\n",
        "3. Create a 3X3 identity matrix.{Hint:np.eye()}\n",
        "4. Create a random array of size 30 and find the mean of the array.\n",
        "{Hint:check for np.random.random() and array.mean() function}\n",
        "5. Create a 10X10 array with random values and find the minimum and maximum values.\n",
        "6. Create a zero array of size 10 and replace 5th element with 1.\n",
        "7. Reverse an array arr = [1,2,0,0,4,0].\n",
        "8. Create a 2d array with 1 on border and 0 inside.\n",
        "9. Create a 8X8 matrix and fill it with a checkerboard pattern."
      ],
      "metadata": {
        "id": "FXTdiX2mfkSA"
      }
    },
    {
      "cell_type": "code",
      "source": [
        "#1\n",
        "import numpy as np\n",
        "array_in_given_range = np.arange(10,50)\n",
        "print(\"Array with values ranging from 10 to 49: \\n\",array_in_given_range,\"\\n\")\n"
      ],
      "metadata": {
        "colab": {
          "base_uri": "https://localhost:8080/"
        },
        "id": "VNjtCvzifuYX",
        "outputId": "47fae568-6091-4007-b167-407d5fc10570"
      },
      "execution_count": 8,
      "outputs": [
        {
          "output_type": "stream",
          "name": "stdout",
          "text": [
            "Array with values ranging from 10 to 49: \n",
            " [10 11 12 13 14 15 16 17 18 19 20 21 22 23 24 25 26 27 28 29 30 31 32 33\n",
            " 34 35 36 37 38 39 40 41 42 43 44 45 46 47 48 49] \n",
            "\n"
          ]
        }
      ]
    },
    {
      "cell_type": "code",
      "source": [
        "\n",
        "#2\n",
        "three_by_three_matrix = np.arange(0,9)\n",
        "reshaped_matrix = three_by_three_matrix.reshape(3,3)\n",
        "print(\"Reshaped matrix: \\n\",reshaped_matrix,\"\\n\")\n",
        "\n",
        "#3\n",
        "identity_matrix = np.eye(3)\n",
        "print(\"Identity matrix: \\n\",identity_matrix,\"\\n\")\n",
        "\n",
        "#4\n",
        "random_array = np.random.random(30)\n",
        "mean_of_array = random_array.mean()\n",
        "print(\"Mean of random array: \",mean_of_array,\"\\n\")\n",
        "\n",
        "\n",
        "#5\n",
        "ten_by_ten_array = np.random.random((10,10))\n",
        "print(\"10x10 array: \",ten_by_ten_array, \"\\n\")\n",
        "max_value = ten_by_ten_array.max()\n",
        "min_value = ten_by_ten_array.min()\n",
        "print(\"Maximum value: \",max_value,\"\\n\")\n",
        "print(\"Minimum value: \",min_value,\"\\n\")\n",
        "\n",
        "#6\n",
        "zero_array = np.zeros(10)\n",
        "print(\"Zero array: \\n\", zero_array, \"\\n\")\n",
        "zero_array[4]=1;\n",
        "print(\"Zero array after replacing 5th element with 1: \\n\", zero_array, \"\\n\")\n",
        "\n",
        "\n",
        "#7\n",
        "arr = np.array([1,2,0,0,4,0])\n",
        "print(\"Original array: \\n\", arr, \"\\n\")\n",
        "reversed_arr = arr[::-1]\n",
        "print(\"Reversed array: \\n\", reversed_arr, \"\\n\")\n",
        "\n",
        "\n",
        "#8\n",
        "unique_array = np.ones((5,5))\n",
        "unique_array[1:-1, 1:-1]=0\n",
        "print(\"Array with ones on border and zeros elsewhere: \\n\",unique_array,\"\\n\")\n",
        "\n",
        "\n",
        "#9\n",
        "check_board_array = np.zeros((8,8))\n",
        "check_board_array[0::2, 0::2] = 1\n",
        "check_board_array[1::2, 1::2] = 1\n",
        "print(\"Checkboard pattern: \\n\",check_board_array, \"\\n\")"
      ],
      "metadata": {
        "colab": {
          "base_uri": "https://localhost:8080/"
        },
        "id": "Tumxp9Vbf3iB",
        "outputId": "de9ec6fd-fae8-4da4-9e39-ddf942d29d9c"
      },
      "execution_count": 9,
      "outputs": [
        {
          "output_type": "stream",
          "name": "stdout",
          "text": [
            "Reshaped matrix: \n",
            " [[0 1 2]\n",
            " [3 4 5]\n",
            " [6 7 8]] \n",
            "\n",
            "Identity matrix: \n",
            " [[1. 0. 0.]\n",
            " [0. 1. 0.]\n",
            " [0. 0. 1.]] \n",
            "\n",
            "Mean of random array:  0.45999751689665314 \n",
            "\n",
            "10x10 array:  [[0.0477194  0.58648342 0.23475348 0.41121632 0.99393357 0.93000269\n",
            "  0.18810436 0.74858542 0.81651889 0.26347939]\n",
            " [0.62038285 0.61621145 0.72653612 0.82574403 0.64960502 0.13579618\n",
            "  0.7114752  0.57370266 0.31512146 0.22160026]\n",
            " [0.02105677 0.24356244 0.90691807 0.12126823 0.78759013 0.91758812\n",
            "  0.70342144 0.6883031  0.36840135 0.65754929]\n",
            " [0.40259858 0.20797773 0.72372699 0.08831007 0.95392799 0.59010393\n",
            "  0.67200316 0.30911487 0.36158345 0.16360604]\n",
            " [0.2343677  0.23149742 0.46618847 0.17999243 0.36982691 0.70670328\n",
            "  0.8830246  0.84457501 0.56603531 0.2644813 ]\n",
            " [0.70682952 0.19809995 0.20967836 0.39593977 0.65890761 0.68389577\n",
            "  0.47737179 0.91557492 0.01570285 0.4988345 ]\n",
            " [0.72414019 0.11485799 0.83663669 0.27923327 0.22416261 0.82382264\n",
            "  0.19065013 0.6108181  0.3114055  0.80867473]\n",
            " [0.05730346 0.51556501 0.48583499 0.30004878 0.46789665 0.98050822\n",
            "  0.72119842 0.82909058 0.16551037 0.47448163]\n",
            " [0.29210542 0.0731931  0.87918211 0.48121621 0.87497858 0.54339554\n",
            "  0.25167924 0.43800826 0.37997988 0.39694852]\n",
            " [0.30203455 0.0702555  0.02370899 0.65781872 0.15791783 0.75574792\n",
            "  0.52100956 0.00435664 0.18725484 0.51830185]] \n",
            "\n",
            "Maximum value:  0.9939335734967234 \n",
            "\n",
            "Minimum value:  0.004356640489593833 \n",
            "\n",
            "Zero array: \n",
            " [0. 0. 0. 0. 0. 0. 0. 0. 0. 0.] \n",
            "\n",
            "Zero array after replacing 5th element with 1: \n",
            " [0. 0. 0. 0. 1. 0. 0. 0. 0. 0.] \n",
            "\n",
            "Original array: \n",
            " [1 2 0 0 4 0] \n",
            "\n",
            "Reversed array: \n",
            " [0 4 0 0 2 1] \n",
            "\n",
            "Array with ones on border and zeros elsewhere: \n",
            " [[1. 1. 1. 1. 1.]\n",
            " [1. 0. 0. 0. 1.]\n",
            " [1. 0. 0. 0. 1.]\n",
            " [1. 0. 0. 0. 1.]\n",
            " [1. 1. 1. 1. 1.]] \n",
            "\n",
            "Checkboard pattern: \n",
            " [[1. 0. 1. 0. 1. 0. 1. 0.]\n",
            " [0. 1. 0. 1. 0. 1. 0. 1.]\n",
            " [1. 0. 1. 0. 1. 0. 1. 0.]\n",
            " [0. 1. 0. 1. 0. 1. 0. 1.]\n",
            " [1. 0. 1. 0. 1. 0. 1. 0.]\n",
            " [0. 1. 0. 1. 0. 1. 0. 1.]\n",
            " [1. 0. 1. 0. 1. 0. 1. 0.]\n",
            " [0. 1. 0. 1. 0. 1. 0. 1.]] \n",
            "\n"
          ]
        }
      ]
    },
    {
      "cell_type": "markdown",
      "source": [
        "Problem 3"
      ],
      "metadata": {
        "id": "Wy6asMUagC3W"
      }
    },
    {
      "cell_type": "code",
      "source": [
        "#Problem 3\n",
        "# For the following arrays:\n",
        "import numpy as np\n",
        "x = np.array([[1,2],[3,5]])\n",
        "y = np.array([[5,6],[7,8]]);\n",
        "v = np.array([9,10])\n",
        "w = np.array([11,12]);\n",
        "# Complete all the task using numpy:\n",
        "# 1. Add the two array.\n",
        "add=x+y\n",
        "print(add)\n",
        "print(\"------\")\n",
        "# 2. Subtract the two array.\n",
        "sub=v-w\n",
        "print(sub)\n",
        "print(\"-------\")\n",
        "# 3. Multiply the array with any integers of your choice.\n",
        "multi=x*2\n",
        "print(multi)\n",
        "print(\"--------\")\n",
        "# 4. Find the square of each element of the array.\n",
        "square=np.square(x)\n",
        "print(square)\n",
        "print(\"--------\")\n",
        "# 5. Find the dot product between: v(and)w ; x(and)v ; x(and)y.\n",
        "dot_product1=np.dot(v,w)\n",
        "dot_product2=np.dot(x,v)\n",
        "dot_product3=np.dot(x,y)\n",
        "print(dot_product1)\n",
        "print(dot_product2)\n",
        "print(dot_product3)\n",
        "print(\"---------\")\n",
        "# 6. Concatenate x(and)y along row and Concatenate v(and)w along column.\n",
        "# {Hint:try np.concatenate() or np.vstack() functions.\n",
        "concat_xy_row = np.concatenate((x, y), axis=0)\n",
        "concat_vw_col = np.concatenate((v.reshape(-1, 1), w.reshape(-1, 1)), axis=1)\n",
        "print(\"Concatenate x and y along rows:\\n\", concat_xy_row)\n",
        "print(\"Concatenate v and w along columns:\\n\", concat_vw_col)\n",
        "print(\"--------\")\n",
        "\n",
        "# 7. Concatenate x(and)v; if you get an error, observe and explain why did you get the error?\n",
        "try:\n",
        "    concat_xv = np.concatenate((x, v), axis=0)\n",
        "    print(\"Concatenated x and v:\\n\", concat_xv)\n",
        "except Exception as e:\n",
        "    print(\"Error:\", e)\n"
      ],
      "metadata": {
        "colab": {
          "base_uri": "https://localhost:8080/"
        },
        "id": "ICHw-2PdgjbV",
        "outputId": "5416ba0e-2787-404f-d54a-bfe78178dc88"
      },
      "execution_count": 10,
      "outputs": [
        {
          "output_type": "stream",
          "name": "stdout",
          "text": [
            "[[ 6  8]\n",
            " [10 13]]\n",
            "------\n",
            "[-2 -2]\n",
            "-------\n",
            "[[ 2  4]\n",
            " [ 6 10]]\n",
            "--------\n",
            "[[ 1  4]\n",
            " [ 9 25]]\n",
            "--------\n",
            "219\n",
            "[29 77]\n",
            "[[19 22]\n",
            " [50 58]]\n",
            "---------\n",
            "Concatenate x and y along rows:\n",
            " [[1 2]\n",
            " [3 5]\n",
            " [5 6]\n",
            " [7 8]]\n",
            "Concatenate v and w along columns:\n",
            " [[ 9 11]\n",
            " [10 12]]\n",
            "--------\n",
            "Error: all the input arrays must have same number of dimensions, but the array at index 0 has 2 dimension(s) and the array at index 1 has 1 dimension(s)\n"
          ]
        }
      ]
    },
    {
      "cell_type": "markdown",
      "source": [
        "problem 4"
      ],
      "metadata": {
        "id": "w3mflDaOgrDU"
      }
    },
    {
      "cell_type": "code",
      "source": [
        "import numpy as np\n",
        "\n",
        "# Given arrays\n",
        "A = np.array([[3, 4], [7, 8]])\n",
        "B = np.array([[5, 3], [2, 1]])\n",
        "\n",
        "# 1. Prove A.A⁻¹ = I (Identity Matrix)\n",
        "# Inverse of A\n",
        "A_inv = np.linalg.inv(A)\n",
        "\n",
        "# A . A⁻¹\n",
        "result = np.dot(A, A_inv)\n",
        "\n",
        "print(\"A * A⁻¹:\\n\", result)\n",
        "\n",
        "# 2. Prove AB ≠ BA\n",
        "AB = np.dot(A, B)\n",
        "BA = np.dot(B, A)\n",
        "\n",
        "print(\"\\nAB:\\n\", AB)\n",
        "print(\"\\nBA:\\n\", BA)\n",
        "\n",
        "# Check if AB = BA\n",
        "is_equal = np.array_equal(AB, BA)\n",
        "print(\"\\nIs AB equal to BA? \", is_equal)\n",
        "\n",
        "# 3. Prove (AB)ᵀ = BᵀAᵀ\n",
        "\n",
        "# (AB)ᵀ\n",
        "AB_transpose = np.transpose(AB)\n",
        "\n",
        "#Bᵀ and Aᵀ\n",
        "BT = np.transpose(B)\n",
        "AT = np.transpose(A)\n",
        "\n",
        "# BᵀAᵀ\n",
        "BT_AT = np.dot(BT, AT)\n",
        "\n",
        "print(\"\\n(AB)ᵀ:\\n\", AB_transpose)\n",
        "print(\"\\nBᵀAᵀ:\\n\", BT_AT)\n",
        "\n",
        "# Check if (AB)ᵀ = BᵀAᵀ\n",
        "is_transpose_equal = np.array_equal(AB_transpose, BT_AT)\n",
        "print(\"\\nIs (AB)ᵀ equal to BᵀAᵀ? \", is_transpose_equal)"
      ],
      "metadata": {
        "colab": {
          "base_uri": "https://localhost:8080/"
        },
        "id": "GcfE4kmYgs4Z",
        "outputId": "c6e76b76-b1c9-4593-c0a1-224677b5a017"
      },
      "execution_count": 11,
      "outputs": [
        {
          "output_type": "stream",
          "name": "stdout",
          "text": [
            "A * A⁻¹:\n",
            " [[1.00000000e+00 0.00000000e+00]\n",
            " [1.77635684e-15 1.00000000e+00]]\n",
            "\n",
            "AB:\n",
            " [[23 13]\n",
            " [51 29]]\n",
            "\n",
            "BA:\n",
            " [[36 44]\n",
            " [13 16]]\n",
            "\n",
            "Is AB equal to BA?  False\n",
            "\n",
            "(AB)ᵀ:\n",
            " [[23 51]\n",
            " [13 29]]\n",
            "\n",
            "BᵀAᵀ:\n",
            " [[23 51]\n",
            " [13 29]]\n",
            "\n",
            "Is (AB)ᵀ equal to BᵀAᵀ?  True\n"
          ]
        }
      ]
    },
    {
      "cell_type": "markdown",
      "source": [
        "4.2 Experiment: How Fast is Numpy?\n",
        "1. Element-wise Addition:\n",
        "• Using Python Lists, perform element-wise addition of two lists of size 1, 000, 000. Measure\n",
        "and Print the time taken for this operation.\n",
        "• Using Numpy Arrays, Repeat the calculation and measure and print the time taken for this\n",
        "operation."
      ],
      "metadata": {
        "id": "HE6ajMW7g5PH"
      }
    },
    {
      "cell_type": "code",
      "source": [
        "import time\n",
        "\n",
        "python_list1=[i for i in range(1,100000)]\n",
        "python_list2=[j for j in range(1,100000)]\n",
        "\n",
        "print(\"Element-wise Addition: \\n\")\n",
        "start_at = time.time()\n",
        "sum1 = [python_list1[i] + python_list2[i] for i in range(len(python_list1))]\n",
        "end_at = time.time()\n",
        "print(\"Time taken using python lists: \", end_at-start_at, \"seconds.\\n\")\n",
        "\n",
        "\n",
        "array1 = np.arange(1_000_000)\n",
        "array2 = np.arange(1_000_000)\n",
        "\n",
        "start_at = time.time()\n",
        "sum2 = array1 + array2\n",
        "end_at = time.time()\n",
        "print(\"Time taken using NumPy arrays:\", end_at - start_at, \"seconds\")"
      ],
      "metadata": {
        "colab": {
          "base_uri": "https://localhost:8080/"
        },
        "id": "Kahbvg5hg_ej",
        "outputId": "b0df8b8a-e5a1-4ca4-fc49-2756334ccc23"
      },
      "execution_count": 12,
      "outputs": [
        {
          "output_type": "stream",
          "name": "stdout",
          "text": [
            "Element-wise Addition: \n",
            "\n",
            "Time taken using python lists:  0.020756959915161133 seconds.\n",
            "\n",
            "Time taken using NumPy arrays: 0.0043561458587646484 seconds\n"
          ]
        }
      ]
    },
    {
      "cell_type": "markdown",
      "source": [
        "\n",
        "\n",
        "\n",
        "2. Element-wise Multiplication\n",
        "\n",
        "• Using Python Lists, perform element-wise multiplication of two lists of size 1, 000, 000. Mea-\n",
        "sure and Print the time taken for this operation.\n",
        "\n",
        "• Using Numpy Arrays, Repeat the calculation and measure and print the time taken for this\n",
        "operation."
      ],
      "metadata": {
        "id": "MzYf3PJGhRba"
      }
    },
    {
      "cell_type": "code",
      "source": [
        "python_list1=[i for i in range(1,100000)]\n",
        "python_list2=[j for j in range(1,100000)]\n",
        "\n",
        "print(\"Element-wise Multiplicatio: \\n\")\n",
        "start_at = time.time()\n",
        "product1 = [python_list1[i] * python_list2[i] for i in range(len(python_list1))]\n",
        "end_at = time.time()\n",
        "print(\"Time taken using python lists: \", end_at-start_at, \"seconds.\\n\")\n",
        "\n",
        "\n",
        "array1 = np.arange(1_000_000)\n",
        "array2 = np.arange(1_000_000)\n",
        "\n",
        "start_at = time.time()\n",
        "product2 = array1*array2\n",
        "end_at = time.time()\n",
        "print(\"Time taken using NumPy arrays:\", end_at - start_at, \"seconds\")"
      ],
      "metadata": {
        "colab": {
          "base_uri": "https://localhost:8080/"
        },
        "id": "GrgaTyKThaIt",
        "outputId": "08b9cae4-ffc7-4f53-c72f-c13639bb21d2"
      },
      "execution_count": 13,
      "outputs": [
        {
          "output_type": "stream",
          "name": "stdout",
          "text": [
            "Element-wise Multiplicatio: \n",
            "\n",
            "Time taken using python lists:  0.016365528106689453 seconds.\n",
            "\n",
            "Time taken using NumPy arrays: 0.004472494125366211 seconds\n"
          ]
        }
      ]
    },
    {
      "cell_type": "code",
      "source": [
        "python_list1=[i for i in range(1,100000)]\n",
        "python_list2=[j for j in range(1,100000)]\n",
        "\n",
        "print(\"Element-wise dot product: \\n\")\n",
        "start_at = time.time()\n",
        "product1 = [python_list1[i] * python_list2[i] for i in range(len(python_list1))]\n",
        "end_at = time.time()\n",
        "print(\"Time taken using python lists: \", end_at-start_at, \"seconds.\\n\")\n",
        "\n",
        "\n",
        "array1 = np.arange(1_000_000)\n",
        "array2 = np.arange(1_000_000)\n",
        "\n",
        "start_at = time.time()\n",
        "product2 = np.dot(array1, array2)\n",
        "end_at = time.time()\n",
        "print(\"Time taken using NumPy arrays:\", end_at - start_at, \"seconds\")"
      ],
      "metadata": {
        "colab": {
          "base_uri": "https://localhost:8080/"
        },
        "id": "KtU1j-i4hmu6",
        "outputId": "b8df7fb2-7481-4180-90be-25919c9fdae8"
      },
      "execution_count": 16,
      "outputs": [
        {
          "output_type": "stream",
          "name": "stdout",
          "text": [
            "Element-wise dot product: \n",
            "\n",
            "Time taken using python lists:  0.0180819034576416 seconds.\n",
            "\n",
            "Time taken using NumPy arrays: 0.001293182373046875 seconds\n"
          ]
        }
      ]
    },
    {
      "cell_type": "markdown",
      "source": [
        "4. Matrix Multiplication\n",
        "• Using Python lists, perform matrix multiplication of two matrices of size 1000x1000. Measure\n",
        "and print the time taken for this operation.\n",
        "\n",
        "• Using NumPy arrays, perform matrix multiplication of two matrices of size 1000x1000. Mea-\n",
        "sure and print the time taken for this operation."
      ],
      "metadata": {
        "id": "M-fbgPEoh9Jq"
      }
    },
    {
      "cell_type": "code",
      "source": [
        "import time\n",
        "\n",
        "matrix1 = [[i for i in range(100)] for _ in range(100)]\n",
        "matrix2 = [[j for j in range(100)] for _ in range(100)]\n",
        "\n",
        "start_time = time.time()\n",
        "result_matrix = [[sum(a * b for a, b in zip(row, col)) for col in zip(*matrix2)] for row in matrix1]\n",
        "end_time = time.time()\n",
        "print(f\"Time taken by Python Lists: {end_time - start_time:.5f} seconds\")\n",
        "\n",
        "# Using NumPy arrays, perform matrix multiplication of two matrices of size 1000x1000. Measure and print the time taken for this operation.\n",
        "matrix1_np = np.array(matrix1)\n",
        "matrix2_np = np.array(matrix2)\n",
        "\n",
        "start_time = time.time()\n",
        "result_matrix_np = np.dot(matrix1_np, matrix2_np)\n",
        "end_time = time.time()\n",
        "print(f\"Time taken by numpy: {end_time - start_time:.5f} seconds\")\n",
        "print(\"Time taken for matrix multiplication using NumPy arrays:\", end_time - start_time, \"seconds.\")"
      ],
      "metadata": {
        "colab": {
          "base_uri": "https://localhost:8080/"
        },
        "id": "CdXTaxrJh2Ou",
        "outputId": "9bb96ef9-258b-41d1-e284-49afd107d6f0"
      },
      "execution_count": 17,
      "outputs": [
        {
          "output_type": "stream",
          "name": "stdout",
          "text": [
            "Time taken by Python Lists: 0.12892 seconds\n",
            "Time taken by numpy: 0.00140 seconds\n",
            "Time taken for matrix multiplication using NumPy arrays: 0.0014014244079589844 seconds.\n"
          ]
        }
      ]
    }
  ]
}